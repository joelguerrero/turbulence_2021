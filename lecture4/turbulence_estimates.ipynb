{
 "cells": [
  {
   "cell_type": "markdown",
   "metadata": {},
   "source": [
    "# Turbulence estimates - Quick and dirty computation"
   ]
  },
  {
   "cell_type": "code",
   "execution_count": null,
   "metadata": {},
   "outputs": [],
   "source": []
  },
  {
   "cell_type": "code",
   "execution_count": 1,
   "metadata": {},
   "outputs": [],
   "source": [
    "%matplotlib inline"
   ]
  },
  {
   "cell_type": "code",
   "execution_count": null,
   "metadata": {},
   "outputs": [],
   "source": []
  },
  {
   "cell_type": "code",
   "execution_count": 2,
   "metadata": {},
   "outputs": [],
   "source": [
    "from matplotlib import pyplot as plt\n",
    "import numpy as np"
   ]
  },
  {
   "cell_type": "code",
   "execution_count": null,
   "metadata": {},
   "outputs": [],
   "source": []
  },
  {
   "cell_type": "markdown",
   "metadata": {},
   "source": [
    "### Input fluid properties, flow conditions, and characteristic length"
   ]
  },
  {
   "cell_type": "code",
   "execution_count": 3,
   "metadata": {},
   "outputs": [],
   "source": [
    "#Input values\n",
    "density = 1.225\n",
    "mu = 0.00018\n",
    "nu=mu/density\n",
    "U = 5\n",
    "L = 0.15\n",
    "\n",
    "#Turbulence intensity percentage\n",
    "IP = 5\n"
   ]
  },
  {
   "cell_type": "code",
   "execution_count": null,
   "metadata": {},
   "outputs": [],
   "source": []
  },
  {
   "cell_type": "markdown",
   "metadata": {},
   "source": [
    "### System Reynolds number computation"
   ]
  },
  {
   "cell_type": "code",
   "execution_count": 4,
   "metadata": {},
   "outputs": [
    {
     "name": "stdout",
     "output_type": "stream",
     "text": [
      "System Reynolds number =  5104.166666666666\n"
     ]
    }
   ],
   "source": [
    "#Compute Reynolds number\n",
    "Re_char = U*L/nu\n",
    "\n",
    "print(\"System Reynolds number = \",Re_char)\n"
   ]
  },
  {
   "cell_type": "code",
   "execution_count": null,
   "metadata": {},
   "outputs": [],
   "source": []
  },
  {
   "cell_type": "markdown",
   "metadata": {},
   "source": [
    "### Computation of integral length scale $l_0$ using correlations"
   ]
  },
  {
   "cell_type": "code",
   "execution_count": 5,
   "metadata": {},
   "outputs": [
    {
     "name": "stdout",
     "output_type": "stream",
     "text": [
      "Reynolds number x =  5104.166666666666\n",
      "Boundary layer thickness (m) =  0.009518627553609807\n",
      "Integral length scale (m) =  0.003807451021443923\n"
     ]
    }
   ],
   "source": [
    "#Integral eddy lenght scale\n",
    "\n",
    "#Flat plate correlation\n",
    "#x=1\n",
    "x=L\n",
    "Re_x = U*x/nu\n",
    "\n",
    "#Compute an integral length scale using correlations for flat plate\n",
    "blt = (0.35*x)/((Re_x)**(1/5))\n",
    "l = 0.4*blt\n",
    "\n",
    "#Compute an integral length scale as blockage height percentage\n",
    "#height = 1\n",
    "#l = 0.7*height\n",
    "\n",
    "print(\"Reynolds number x = \",Re_x)\n",
    "print(\"Boundary layer thickness (m) = \",blt)\n",
    "print(\"Integral length scale (m) = \",l)\n",
    "\n",
    "\n",
    "#Pipe correlation\n",
    "#l = 0.07*L\n",
    "#print(\"Integral length scale (m) = \",l)\n"
   ]
  },
  {
   "cell_type": "code",
   "execution_count": null,
   "metadata": {},
   "outputs": [],
   "source": []
  },
  {
   "cell_type": "markdown",
   "metadata": {},
   "source": [
    "### Computation of turbulent intensity"
   ]
  },
  {
   "cell_type": "code",
   "execution_count": 6,
   "metadata": {},
   "outputs": [
    {
     "name": "stdout",
     "output_type": "stream",
     "text": [
      "Turbulence intensity =  0.05\n"
     ]
    }
   ],
   "source": [
    "#Turbulent intensity\n",
    "\n",
    "#Turbulence intensity percentage\n",
    "#IP = 1\n",
    "I = IP/100\n",
    "\n",
    "#Pipe correlation\n",
    "#I = 0.16*Re_char**(-1./8.)\n",
    "\n",
    "print(\"Turbulence intensity = \",I)\n"
   ]
  },
  {
   "cell_type": "code",
   "execution_count": null,
   "metadata": {},
   "outputs": [],
   "source": []
  },
  {
   "cell_type": "markdown",
   "metadata": {},
   "source": [
    "### Computation of turbulent kinetic energy $k$"
   ]
  },
  {
   "cell_type": "code",
   "execution_count": 7,
   "metadata": {},
   "outputs": [
    {
     "name": "stdout",
     "output_type": "stream",
     "text": [
      "Turbulent kinetic energy per unit mass (m^2/S^2) =  0.09375\n"
     ]
    }
   ],
   "source": [
    "#Turbulent kinetic energy\n",
    "\n",
    "k = (3/2)*(U*I)**2\n",
    "\n",
    "#Correct with U_tur\n",
    "#u_tur = (5./4.)*U\n",
    "#k = (3/2)*(u_tur*I)**2\n",
    "\n",
    "print(\"Turbulent kinetic energy per unit mass (m^2/S^2) = \",k)\n"
   ]
  },
  {
   "cell_type": "code",
   "execution_count": null,
   "metadata": {},
   "outputs": [],
   "source": []
  },
  {
   "cell_type": "markdown",
   "metadata": {},
   "source": [
    "### Computation of turbulent dissipation rate $\\epsilon$"
   ]
  },
  {
   "cell_type": "code",
   "execution_count": 8,
   "metadata": {},
   "outputs": [
    {
     "name": "stdout",
     "output_type": "stream",
     "text": [
      "Energy dissipation rate per unit mass (m^2/S^3) =  0.6785238204093553\n"
     ]
    }
   ],
   "source": [
    "#Energy dissipation it uses first approximation of integral lenght scale\n",
    "\n",
    "epsilon = (0.09*k**(3/2))/(l)\n",
    "#epsilon = k**(3/2)/l\n",
    "\n",
    "print(\"Energy dissipation rate per unit mass (m^2/S^3) = \",epsilon)\n"
   ]
  },
  {
   "cell_type": "code",
   "execution_count": null,
   "metadata": {},
   "outputs": [],
   "source": []
  },
  {
   "cell_type": "markdown",
   "metadata": {},
   "source": [
    "### Computation of turbulent specific disipation rate rate $\\omega$"
   ]
  },
  {
   "cell_type": "code",
   "execution_count": 9,
   "metadata": {},
   "outputs": [
    {
     "name": "stdout",
     "output_type": "stream",
     "text": [
      "Specific dissipation rate per unit mass (1/S) =  80.4176379744421\n"
     ]
    }
   ],
   "source": [
    "#Compute specific dissipation rate from epsilon\n",
    "\n",
    "omega = epsilon/(0.09*k)\n",
    "\n",
    "print(\"Specific dissipation rate per unit mass (1/S) = \",omega)\n"
   ]
  },
  {
   "cell_type": "code",
   "execution_count": null,
   "metadata": {},
   "outputs": [],
   "source": []
  },
  {
   "cell_type": "markdown",
   "metadata": {},
   "source": [
    "### Computation of integral length scasles $l_0$, $t_0$, $u_0$ - Maximum and average"
   ]
  },
  {
   "cell_type": "code",
   "execution_count": 10,
   "metadata": {},
   "outputs": [
    {
     "name": "stdout",
     "output_type": "stream",
     "text": [
      "Maximum Integral scale l0 or l0_max (m)   =  0.04230501134937693\n",
      "Maximum Integral scale t0 or t0_max (s)   =  0.13816758849149963\n",
      "Maximum Integral scale u0 or u0_max (m/s) =  0.30618621784789724\n",
      "\n",
      "Average Integral scale l0 or l0_ave (m)   =  0.003807451021443923\n",
      "Average Integral scale t0 or t0_ave (s)   =  0.012435082964234966\n",
      "Average Integral scale u0 or u0_ave (m/s) =  0.30618621784789724\n"
     ]
    }
   ],
   "source": [
    "#Turbulent Reynolds number\n",
    "\n",
    "#Recompute largest eddy \n",
    "l0_max = (k**(3/2))/epsilon        #ok if you think in terms of largest eddy - Taylor\n",
    "l0_ave = 0.09*(k**(3/2))/epsilon   #ok if you think in terms of average integral eddies same as l - Wilcox corrected\n",
    "\n",
    "#It is better to use Wilcox correction\n",
    "\n",
    "#Turnover time\n",
    "t0_max = l0_max/(k**(1/2))\n",
    "t0_ave = l0_ave/(k**(1/2))\n",
    "#t0 = 0.09*k/e\n",
    "\n",
    "\n",
    "#Velocity of l0\n",
    "u0_max = l0_max/t0_max\n",
    "u0_ave = l0_ave/t0_ave\n",
    "#u0_max = k**(1/2)\n",
    "#u0_max = ((2/3)*k)**(1/2)\n",
    "\n",
    "#The main difference is that ave values are multiplied by c_mu\n",
    "print(\"Maximum Integral scale l0 or l0_max (m)   = \",l0_max)\n",
    "print(\"Maximum Integral scale t0 or t0_max (s)   = \",t0_max)\n",
    "print(\"Maximum Integral scale u0 or u0_max (m/s) = \",u0_max)\n",
    "print()\n",
    "print(\"Average Integral scale l0 or l0_ave (m)   = \",l0_ave)\n",
    "print(\"Average Integral scale t0 or t0_ave (s)   = \",t0_ave)\n",
    "print(\"Average Integral scale u0 or u0_ave (m/s) = \",u0_ave)\n"
   ]
  },
  {
   "cell_type": "code",
   "execution_count": null,
   "metadata": {},
   "outputs": [],
   "source": []
  },
  {
   "cell_type": "markdown",
   "metadata": {},
   "source": [
    "### Computation of turbulent eddy viscosity $\\mu_t$ using $\\omega$ and $\\epsilon$"
   ]
  },
  {
   "cell_type": "code",
   "execution_count": 11,
   "metadata": {},
   "outputs": [
    {
     "name": "stdout",
     "output_type": "stream",
     "text": [
      "Turbulent viscosity using omega =  0.0014280915591738596 kg-m/s\n",
      "Turbulent viscosity using epsilon =  0.0014280915591738594 kg-m/s\n"
     ]
    }
   ],
   "source": [
    "#Turbulent eddy viscosity using turbulent qunatities and integral length scales\n",
    "\n",
    "#Using omega\n",
    "mut1 = density*k/omega\n",
    "\n",
    "#Using epsilon\n",
    "mut2 = density*0.09*k**2/epsilon\n",
    "\n",
    "#Computed using l or l0_ave\n",
    "print(\"Turbulent viscosity using omega = \",mut1,\"kg-m/s\")\n",
    "print(\"Turbulent viscosity using epsilon = \",mut2,\"kg-m/s\")"
   ]
  },
  {
   "cell_type": "code",
   "execution_count": null,
   "metadata": {},
   "outputs": [],
   "source": []
  },
  {
   "cell_type": "markdown",
   "metadata": {},
   "source": [
    "### Computation of turbulent eddy viscosity $\\mu_t$ using TKE computed with turbulence intensity percentage, $\\epsilon$ and Wilcox $\\mu_t$"
   ]
  },
  {
   "cell_type": "code",
   "execution_count": 12,
   "metadata": {},
   "outputs": [
    {
     "name": "stdout",
     "output_type": "stream",
     "text": [
      "Turbulence intensity =  0.05\n",
      "Turbulent viscosity using l (correlation) (kg/m.S) =  0.00012852824032564734\n",
      "Turbulent viscosity using l0_max (kg/m.S)          =  0.0014280915591738594\n",
      "Turbulent viscosity using l0_ave (kg/m.S)          =  0.00012852824032564734\n"
     ]
    }
   ],
   "source": [
    "#From:\n",
    "#mu_t = c_mu k^2 / epsilon\n",
    "#epsilon = c_mu k^3/2 / l\n",
    "#k = (3/2) (U I)^2 or k^0.5 = (3/2)^0.5 U I\n",
    "\n",
    "#Get:\n",
    "#mut_t = density * c_mu (3/2)^0.5 U I l\n",
    "\n",
    "#As integral scale you can use l - l0_max - l0_ave\n",
    "\n",
    "#Turbulence intensity percentage\n",
    "#IP = 1.\n",
    "#I  = IP/100.\n",
    "\n",
    "#Turbulent viscosity - Corrected with 0.09 as suggested by wilcox\n",
    "mut3_l      = density*0.09*((3/2)**0.5)*U*I*l\n",
    "mut3_l0_max = density*0.09*((3/2)**0.5)*U*I*l0_max\n",
    "mut3_l0_ave = density*0.09*((3/2)**0.5)*U*I*l0_ave\n",
    "\n",
    "print(\"Turbulence intensity = \",I)\n",
    "print(\"Turbulent viscosity using l (correlation) (kg/m.S) = \", mut3_l)\n",
    "print(\"Turbulent viscosity using l0_max (kg/m.S)          = \", mut3_l0_max)\n",
    "print(\"Turbulent viscosity using l0_ave (kg/m.S)          = \", mut3_l0_ave)\n"
   ]
  },
  {
   "cell_type": "code",
   "execution_count": null,
   "metadata": {},
   "outputs": [],
   "source": []
  },
  {
   "cell_type": "markdown",
   "metadata": {},
   "source": [
    "### Computation of turbulent eddy viscosity $\\mu_t$ using intensity and table"
   ]
  },
  {
   "cell_type": "code",
   "execution_count": 13,
   "metadata": {},
   "outputs": [
    {
     "name": "stdout",
     "output_type": "stream",
     "text": [
      "Turbulent intensity =  1\n",
      "Turbulent viscosity using intensity =  0.00036 kg-m/s\n"
     ]
    }
   ],
   "source": [
    "#Intensity\n",
    "I_t = 1\n",
    "\n",
    "if I_t < 2:\n",
    "    edr = 2\n",
    "    mut4 = edr*mu\n",
    "    print(\"Turbulent intensity = \",I_t)\n",
    "    print(\"Turbulent viscosity using intensity = \",mut4,\"kg-m/s\")\n",
    "    \n",
    "elif 2 <= I_t <= 7 :\n",
    "    edr = 10\n",
    "    mut4 = edr*mu\n",
    "    print(\"Turbulent intensity = \",I_t)\n",
    "    print(\"Turbulent viscosity using intensity = \",mut4,\"kg-m/s\")\n",
    "    \n",
    "elif I_t > 7 :\n",
    "    edr = 100\n",
    "    mut4 = edr*mu\n",
    "    print(\"Turbulent intensity = \",I_t)\n",
    "    print(\"Turbulent viscosity using intensity = \",mut4,\"kg-m/s\")\n",
    "    "
   ]
  },
  {
   "cell_type": "code",
   "execution_count": null,
   "metadata": {},
   "outputs": [],
   "source": []
  },
  {
   "cell_type": "markdown",
   "metadata": {},
   "source": [
    "### Correction of $\\omega$,  $\\epsilon$ and $\\mu_t$ after one iteration using the correlation to estimate the starting lenght scale"
   ]
  },
  {
   "cell_type": "code",
   "execution_count": 14,
   "metadata": {},
   "outputs": [
    {
     "name": "stdout",
     "output_type": "stream",
     "text": [
      "Corrected values after one iteration - Using l0_max\n",
      "Turbulent kinetic energy per unit mass (m^2/S^2) =  0.09375\n",
      "Energy dissipation rate per unit mass (m^2/S^3) =  0.061067143836841975\n",
      "Specific dissipation rate per unit mass (1/S) =  7.237587417699789\n",
      " \n",
      "Corrected values after one iteration - Using l0_ave\n",
      "Turbulent kinetic energy per unit mass (m^2/S^2) =  0.09375\n",
      "Energy dissipation rate per unit mass (m^2/S^3) =  0.6785238204093553\n",
      "Specific dissipation rate per unit mass (1/S) =  80.4176379744421\n",
      " \n",
      "Original values - Using l from correlation\n",
      "Turbulent kinetic energy per unit mass (m^2/S^2) =  0.09375\n",
      "Energy dissipation rate per unit mass (m^2/S^3) =  0.6785238204093553\n",
      "Specific dissipation rate per unit mass (1/S) =  80.4176379744421\n"
     ]
    }
   ],
   "source": [
    "#The main difference between the _ave and _max cases is the c_mu constant\n",
    "\n",
    "#Turbulent kinetic energy\n",
    "k2 = (3/2)*(U*I)**2\n",
    "k3 = (3/2)*(U*I)**2\n",
    "\n",
    "#Energy dissipation it uses first approximation of integral lenght scale\n",
    "epsilon2 = (0.09*k2**(3/2))/(l0_max)\n",
    "epsilon3 = (0.09*k3**(3/2))/(l0_ave)\n",
    "\n",
    "#Compute specific dissipation rate from epsilon\n",
    "omega2 = epsilon2/(0.09*k2)\n",
    "omega3 = epsilon3/(0.09*k3)\n",
    "\n",
    "#Turbulent eddy viscosity using turbulent qunatities and integral length scales\n",
    "#Using omega\n",
    "mut1_cor = density*k2/omega2\n",
    "mut2_cor = density*k3/omega3\n",
    "\n",
    "#Using epsilon\n",
    "mut3_cor = density*0.09*k2**2/epsilon2\n",
    "mut4_cor = density*0.09*k3**2/epsilon3\n",
    "\n",
    "#The main difference is that these values are multiplied by c_mu\n",
    "print(\"Corrected values after one iteration - Using l0_max\")\n",
    "print(\"Turbulent kinetic energy per unit mass (m^2/S^2) = \",k2)\n",
    "print(\"Energy dissipation rate per unit mass (m^2/S^3) = \",epsilon2)\n",
    "print(\"Specific dissipation rate per unit mass (1/S) = \",omega2)\n",
    "\n",
    "print(\" \")\n",
    "print(\"Corrected values after one iteration - Using l0_ave\")\n",
    "print(\"Turbulent kinetic energy per unit mass (m^2/S^2) = \",k2)\n",
    "print(\"Energy dissipation rate per unit mass (m^2/S^3) = \",epsilon3)\n",
    "print(\"Specific dissipation rate per unit mass (1/S) = \",omega3)\n",
    "\n",
    "print(\" \")\n",
    "print(\"Original values - Using l from correlation\")\n",
    "print(\"Turbulent kinetic energy per unit mass (m^2/S^2) = \",k)\n",
    "print(\"Energy dissipation rate per unit mass (m^2/S^3) = \",epsilon)\n",
    "print(\"Specific dissipation rate per unit mass (1/S) = \",omega)\n"
   ]
  },
  {
   "cell_type": "code",
   "execution_count": null,
   "metadata": {},
   "outputs": [],
   "source": []
  },
  {
   "cell_type": "markdown",
   "metadata": {},
   "source": [
    "### Computation of turbulent Reynolds number (integral length scales Reynolds numbrer) $Re_t$"
   ]
  },
  {
   "cell_type": "code",
   "execution_count": 15,
   "metadata": {},
   "outputs": [
    {
     "name": "stdout",
     "output_type": "stream",
     "text": [
      "Reynolds turbulent l_ave =  7.933841995410328\n",
      "Reynolds turbulent l_max =  88.15379994900366\n",
      "Reynolds turbulent (k^2/e*nu) =  88.15379994900366\n"
     ]
    }
   ],
   "source": [
    "#Turbulent Reynolds\n",
    "\n",
    "Re_lave = ((k**(0.5))*l0_ave)/nu\n",
    "Re_lmax = ((k**(0.5))*l0_max)/nu\n",
    "Re_T3 = (k**2)/(epsilon*nu)\n",
    "\n",
    "print(\"Reynolds turbulent l_ave = \",Re_lave)\n",
    "print(\"Reynolds turbulent l_max = \",Re_lmax)\n",
    "print(\"Reynolds turbulent (k^2/e*nu) = \",Re_T3)   #Equivalent to Re l_max\n"
   ]
  },
  {
   "cell_type": "code",
   "execution_count": null,
   "metadata": {},
   "outputs": [],
   "source": []
  },
  {
   "cell_type": "markdown",
   "metadata": {},
   "source": [
    "### Computation of Kolmogorov scales $\\eta$, $\\tau_{\\eta}$, $u_{\\eta}$ and Kolmogorov Reynolds number $Re_{\\eta}$"
   ]
  },
  {
   "cell_type": "code",
   "execution_count": 16,
   "metadata": {},
   "outputs": [
    {
     "name": "stdout",
     "output_type": "stream",
     "text": [
      "Kolmogorov length scale (m) =  0.001470486485996308\n",
      "Kolmogorov time scale (s) =  0.014715860384637602\n",
      "Kolmogorov velocity scale(m/s) =  0.09992528112942686\n",
      "Kolmogorov Reynolds number =  1.0000000000000002\n"
     ]
    }
   ],
   "source": [
    "#Kolmogorov scales\n",
    "\n",
    "kolmogorov_length = ((nu**3)/epsilon)**(1/4)\n",
    "kolmogorov_time = (nu/epsilon)**(1/2)\n",
    "kolmogorov_velocity = (nu*epsilon)**(1/4)\n",
    "kolmogorov_reynolds = (kolmogorov_length*kolmogorov_velocity)/nu\n",
    "\n",
    "print(\"Kolmogorov length scale (m) = \",kolmogorov_length)\n",
    "print(\"Kolmogorov time scale (s) = \",kolmogorov_time)\n",
    "print(\"Kolmogorov velocity scale(m/s) = \",kolmogorov_velocity)\n",
    "print(\"Kolmogorov Reynolds number = \",kolmogorov_reynolds)\n"
   ]
  },
  {
   "cell_type": "code",
   "execution_count": null,
   "metadata": {},
   "outputs": [],
   "source": []
  },
  {
   "cell_type": "markdown",
   "metadata": {},
   "source": [
    "### Ratio of integral scales to Kolmogorov scales"
   ]
  },
  {
   "cell_type": "code",
   "execution_count": 17,
   "metadata": {},
   "outputs": [
    {
     "name": "stdout",
     "output_type": "stream",
     "text": [
      "l0_to_kolmogorov =  28.76939825850473\n",
      "t0_to_kolmogorov =  9.389025505823469\n",
      "u0_to_kolmogorov =  3.0641516780054263\n"
     ]
    }
   ],
   "source": [
    "#Ratios of scales\n",
    "\n",
    "#l0_to_kolmogorov = Re_lave**(3/4)\n",
    "#t0_to_kolmogorov = Re_lave**(1/2)\n",
    "#u0_to_kolmogorov = Re_lave**(1/4)\n",
    "\n",
    "l0_to_kolmogorov = Re_T3**(3/4)\n",
    "t0_to_kolmogorov = Re_T3**(1/2)\n",
    "u0_to_kolmogorov = Re_T3**(1/4)\n",
    "\n",
    "print(\"l0_to_kolmogorov = \",l0_to_kolmogorov)\n",
    "print(\"t0_to_kolmogorov = \",t0_to_kolmogorov)\n",
    "print(\"u0_to_kolmogorov = \",u0_to_kolmogorov)\n"
   ]
  },
  {
   "cell_type": "code",
   "execution_count": null,
   "metadata": {},
   "outputs": [],
   "source": []
  },
  {
   "cell_type": "markdown",
   "metadata": {},
   "source": [
    "### Computation of Taylor micro-scales"
   ]
  },
  {
   "cell_type": "code",
   "execution_count": 18,
   "metadata": {},
   "outputs": [
    {
     "name": "stdout",
     "output_type": "stream",
     "text": [
      "Taylor length scale (m) =  0.014248570548703727\n",
      "Taylor time scale (s) =  0.05699428219481491\n",
      "Taylor velocity scale(m/s) =  0.25\n"
     ]
    }
   ],
   "source": [
    "l_taylor = ((10*nu*k)/epsilon)**0.5\n",
    "t_taylor = (15*nu/epsilon)**0.5\n",
    "u_taylor = l_taylor/t_taylor \n",
    "\n",
    "print(\"Taylor length scale (m) = \",l_taylor)\n",
    "print(\"Taylor time scale (s) = \",t_taylor)\n",
    "print(\"Taylor velocity scale(m/s) = \",u_taylor)\n"
   ]
  },
  {
   "cell_type": "code",
   "execution_count": null,
   "metadata": {},
   "outputs": [],
   "source": []
  },
  {
   "cell_type": "markdown",
   "metadata": {},
   "source": [
    "### Computation of eddy frequencies"
   ]
  },
  {
   "cell_type": "code",
   "execution_count": 19,
   "metadata": {},
   "outputs": [
    {
     "name": "stdout",
     "output_type": "stream",
     "text": [
      "Specific disspation rate (omega) =  80.4176379744421  1/s\n",
      " \n",
      "Kolmogorov eddy frequency =  67.95389286541035  1/s\n",
      "Taylor eddy frequency =  17.545619691846486  1/s\n",
      "Integral eddy frequency max. =  7.23758741769979  1/s\n",
      "Integral eddy frequency ave. =  80.41763797444212  1/s\n"
     ]
    }
   ],
   "source": [
    "#Fluid dynamics/turbulence frequencies.\n",
    "print('Specific disspation rate (omega) = ', omega,' 1/s')\n",
    "print(' ')\n",
    "print('Kolmogorov eddy frequency = ', 1/kolmogorov_time,' 1/s')\n",
    "print('Taylor eddy frequency = ' , 1/t_taylor,' 1/s')\n",
    "print('Integral eddy frequency max. = ', 1/t0_max,' 1/s')\n",
    "print('Integral eddy frequency ave. = ', 1/t0_ave,' 1/s')\n"
   ]
  },
  {
   "cell_type": "code",
   "execution_count": null,
   "metadata": {},
   "outputs": [],
   "source": []
  },
  {
   "cell_type": "markdown",
   "metadata": {},
   "source": [
    "### Computation of viscous sublayer height using target y+ values"
   ]
  },
  {
   "cell_type": "code",
   "execution_count": 20,
   "metadata": {},
   "outputs": [
    {
     "name": "stdout",
     "output_type": "stream",
     "text": [
      "Friction coefficient cf =  0.010515817106845122\n",
      "Wall shear stress (tau) =  0.16102344944856595 Pa\n",
      "Shear velocity (u_tau) =  0.36255718698650014 m/s\n",
      " \n",
      "Viscous sublayer height (y+ = 1)   =  0.0004052844096996907 m\n",
      "Viscous sublayer height (y+ = 5)   =  0.0020264220484984535 m\n",
      "Viscous sublayer height (y+ = 10)  =  0.004052844096996907 m\n",
      "Viscous sublayer height (y+ = 30)  =  0.01215853229099072 m\n",
      "Viscous sublayer height (y+ = 100) =  0.04052844096996907 m\n",
      " \n",
      "Kolmogorov length scale =  0.001470486485996308 m\n"
     ]
    }
   ],
   "source": [
    "#Target yplus values\n",
    "yplus1 = 1\n",
    "yplus5 = 5\n",
    "yplus10 = 10\n",
    "yplus30 = 30\n",
    "yplus100 = 100\n",
    "\n",
    "#Compute friction coefficient using correlations for flat plate\n",
    "cf = 0.058*Re_char**(-0.2)\n",
    "tau = 0.5*cf*density*U**2\n",
    "u_tau = (tau/density)**0.5\n",
    "\n",
    "#Viscous sublayer height\n",
    "y1 = (mu*yplus1)/(density*u_tau)\n",
    "y5 = (mu*yplus5)/(density*u_tau)\n",
    "y10 = (mu*yplus10)/(density*u_tau)\n",
    "y30 = (mu*yplus30)/(density*u_tau)\n",
    "y100 = (mu*yplus100)/(density*u_tau)\n",
    "\n",
    "\n",
    "print(\"Friction coefficient cf = \",cf)\n",
    "print(\"Wall shear stress (tau) = \",tau, \"Pa\")\n",
    "print(\"Shear velocity (u_tau) = \",u_tau, \"m/s\")\n",
    "print(\" \")\n",
    "print(\"Viscous sublayer height (y+ = 1)   = \",y1, \"m\")\n",
    "print(\"Viscous sublayer height (y+ = 5)   = \",y5, \"m\")\n",
    "print(\"Viscous sublayer height (y+ = 10)  = \",y10, \"m\")\n",
    "print(\"Viscous sublayer height (y+ = 30)  = \",y30, \"m\")\n",
    "print(\"Viscous sublayer height (y+ = 100) = \",y100, \"m\")\n",
    "print(\" \")\n",
    "print(\"Kolmogorov length scale = \",kolmogorov_length, \"m\")\n"
   ]
  },
  {
   "cell_type": "code",
   "execution_count": null,
   "metadata": {},
   "outputs": [],
   "source": []
  },
  {
   "cell_type": "code",
   "execution_count": null,
   "metadata": {},
   "outputs": [],
   "source": []
  },
  {
   "cell_type": "code",
   "execution_count": null,
   "metadata": {},
   "outputs": [],
   "source": []
  },
  {
   "cell_type": "code",
   "execution_count": null,
   "metadata": {},
   "outputs": [],
   "source": []
  },
  {
   "cell_type": "code",
   "execution_count": null,
   "metadata": {},
   "outputs": [],
   "source": []
  },
  {
   "cell_type": "code",
   "execution_count": 21,
   "metadata": {},
   "outputs": [
    {
     "name": "stdout",
     "output_type": "stream",
     "text": [
      "Python version: sys.version_info(major=3, minor=7, micro=6, releaselevel='final', serial=0)\n",
      "IPython version: 7.12.0\n",
      "Numpy version 1.18.1\n",
      "Matplotlib version: 3.1.3\n"
     ]
    }
   ],
   "source": [
    "import sys\n",
    "print('Python version:', sys.version_info)\n",
    "\n",
    "import IPython\n",
    "print('IPython version:', IPython.__version__)\n",
    "\n",
    "import numpy\n",
    "print('Numpy version', numpy.__version__)\n",
    "\n",
    "import matplotlib\n",
    "print('Matplotlib version:', matplotlib.__version__)"
   ]
  }
 ],
 "metadata": {
  "kernelspec": {
   "display_name": "Python 3",
   "language": "python",
   "name": "python3"
  },
  "language_info": {
   "codemirror_mode": {
    "name": "ipython",
    "version": 3
   },
   "file_extension": ".py",
   "mimetype": "text/x-python",
   "name": "python",
   "nbconvert_exporter": "python",
   "pygments_lexer": "ipython3",
   "version": "3.7.6"
  }
 },
 "nbformat": 4,
 "nbformat_minor": 1
}
