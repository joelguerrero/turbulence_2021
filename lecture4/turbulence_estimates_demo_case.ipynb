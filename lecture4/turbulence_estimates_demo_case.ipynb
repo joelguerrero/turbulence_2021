{
 "cells": [
  {
   "cell_type": "markdown",
   "metadata": {},
   "source": [
    "# Turbulence estimates - Quick and dirty computation"
   ]
  },
  {
   "cell_type": "code",
   "execution_count": null,
   "metadata": {},
   "outputs": [],
   "source": []
  },
  {
   "cell_type": "code",
   "execution_count": 1,
   "metadata": {},
   "outputs": [],
   "source": [
    "%matplotlib inline"
   ]
  },
  {
   "cell_type": "code",
   "execution_count": null,
   "metadata": {},
   "outputs": [],
   "source": []
  },
  {
   "cell_type": "code",
   "execution_count": 2,
   "metadata": {},
   "outputs": [],
   "source": [
    "from matplotlib import pyplot as plt\n",
    "import numpy as np"
   ]
  },
  {
   "cell_type": "code",
   "execution_count": null,
   "metadata": {},
   "outputs": [],
   "source": []
  },
  {
   "cell_type": "markdown",
   "metadata": {},
   "source": [
    "## Compute estimates for a demo case - Internal flow"
   ]
  },
  {
   "cell_type": "code",
   "execution_count": 3,
   "metadata": {},
   "outputs": [
    {
     "name": "stdout",
     "output_type": "stream",
     "text": [
      "System Reynolds number =  51041.666666666664\n",
      "Integral length scale (m) =  0.06390096504226939\n",
      "Turbulence intensity =  0.05\n",
      " \n",
      "Turbulent kinetic energy per unit mass (m^2/S^2) =  0.09375\n",
      " \n",
      "Energy dissipation rate per unit mass (m^2/S^3) - V1     =  0.4492100847655827\n",
      "Energy dissipation rate per unit mass (m^2/S^3) - V2 *** =  5.38330078125\n",
      " \n",
      "Specific dissipation rate per unit mass (1/S) - V1     =  53.23971374999498\n",
      "Specific dissipation rate per unit mass (1/S) - V2 *** =  638.0208333333333\n",
      "Specific dissipation rate per unit mass (1/S) - V3     =  53.23971374999499\n",
      "Specific dissipation rate per unit mass (1/S) - V4     =  781.5755208333335\n",
      " \n",
      "Turbulent viscosity using k and omega (kg/m.S) =  0.0017609035322810847\n",
      "Turbulent viscosity using EDR ratio (kg/m.S) *** =  0.00018\n"
     ]
    }
   ],
   "source": [
    "#Fluent correlations - Mixing tee case\n",
    "\n",
    "#Input values\n",
    "density = 1.225\n",
    "mu = 0.000018\n",
    "nu=mu/density\n",
    "U = 5\n",
    "L = 0.15\n",
    "\n",
    "\n",
    "#Compute reynolds\n",
    "Re_char = U*L/nu\n",
    "print(\"System Reynolds number = \",Re_char)\n",
    "\n",
    "\n",
    "#Pipe correlation\n",
    "l = 0.07*L/(0.09**(3/4))\n",
    "\n",
    "\n",
    "#Turbulence intensity percentage\n",
    "IP = 5.\n",
    "I  = IP/100.\n",
    "\n",
    "I1 = 0.16*Re_char**(-1./8.)\n",
    "\n",
    "\n",
    "#Eddy viscosity ratio\n",
    "mu_ratio = 10\n",
    "nu_ratio = 10\n",
    "\n",
    "#Turbulent kinetic energy\n",
    "k = (3/2)*(U*I)**2\n",
    "\n",
    "\n",
    "#Energy dissipation\n",
    "#Version 1\n",
    "e1 = (k**(3/2))/(l)\n",
    "#Version 2\n",
    "#e2 = density*0.09*((k**2)/nu)*nu_ratio**(-1)\n",
    "e2 = (0.09*(k**2)/(nu))*nu_ratio**(-1)\n",
    "\n",
    "#\"Specific dissipation rate per unit mass\n",
    "#Version 1\n",
    "omega1 = e1/(0.09*k)\n",
    "#Version 2\n",
    "omega2 = e2/(0.09*k)\n",
    "#Version 3\n",
    "omega3 = (k**0.5)/(0.09*l)\n",
    "#Version 4\n",
    "omega4 = density*(k/nu)*nu_ratio**(-1)\n",
    "\n",
    "#Turbulent viscosity\n",
    "mut1 = 0.09*((3/2)**0.5)*U*I*l\n",
    "mut2 = mu*mu_ratio\n",
    "\n",
    "\n",
    "print(\"Integral length scale (m) = \",l)\n",
    "print(\"Turbulence intensity = \",I)\n",
    "print(\" \")\n",
    "\n",
    "print(\"Turbulent kinetic energy per unit mass (m^2/S^2) = \",k)\n",
    "print(\" \")\n",
    "\n",
    "print(\"Energy dissipation rate per unit mass (m^2/S^3) - V1     = \",e1)\n",
    "print(\"Energy dissipation rate per unit mass (m^2/S^3) - V2 *** = \",e2)\n",
    "print(\" \")\n",
    "\n",
    "print(\"Specific dissipation rate per unit mass (1/S) - V1     = \",omega1)\n",
    "print(\"Specific dissipation rate per unit mass (1/S) - V2 *** = \",omega2)\n",
    "print(\"Specific dissipation rate per unit mass (1/S) - V3     = \",omega3)\n",
    "print(\"Specific dissipation rate per unit mass (1/S) - V4     = \",omega4)\n",
    "print(\" \")\n",
    "\n",
    "print(\"Turbulent viscosity using k and omega (kg/m.S) = \",mut1)\n",
    "print(\"Turbulent viscosity using EDR ratio (kg/m.S) *** = \",mut2)"
   ]
  },
  {
   "cell_type": "code",
   "execution_count": null,
   "metadata": {},
   "outputs": [],
   "source": []
  },
  {
   "cell_type": "code",
   "execution_count": null,
   "metadata": {},
   "outputs": [],
   "source": []
  },
  {
   "cell_type": "code",
   "execution_count": null,
   "metadata": {},
   "outputs": [],
   "source": []
  },
  {
   "cell_type": "markdown",
   "metadata": {},
   "source": [
    "## Compute estimates for a demo case - External flow"
   ]
  },
  {
   "cell_type": "code",
   "execution_count": null,
   "metadata": {},
   "outputs": [],
   "source": []
  }
 ],
 "metadata": {
  "kernelspec": {
   "display_name": "Python 3",
   "language": "python",
   "name": "python3"
  },
  "language_info": {
   "codemirror_mode": {
    "name": "ipython",
    "version": 3
   },
   "file_extension": ".py",
   "mimetype": "text/x-python",
   "name": "python",
   "nbconvert_exporter": "python",
   "pygments_lexer": "ipython3",
   "version": "3.7.6"
  }
 },
 "nbformat": 4,
 "nbformat_minor": 1
}
